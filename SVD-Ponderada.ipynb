{
 "cells": [
  {
   "cell_type": "markdown",
   "id": "4885c5fe",
   "metadata": {},
   "source": [
    "# SVD da matriz de classificação de filmes  \n",
    "\n",
    "Temos a matriz \\(M\\) (4 usuários × 5 filmes) com notas de 1 a 5. Zeros significam “ainda não avaliado”.\n",
    "\n",
    "$$\n",
    "M=\\begin{bmatrix}\n",
    "5 & 4 & 0 & 0 & 3\\\\\n",
    "3 & 0 & 4 & 2 & 1\\\\\n",
    "4 & 3 & 5 & 5 & 0\\\\\n",
    "0 & 2 & 1 & 3 & 4\n",
    "\\end{bmatrix}\n",
    "$$\n",
    "\n",
    "A ideia é quebrar $M$ em $M = U\\,\\Sigma\\,V^{\\mathsf T}$ usando **SVD** para achar fatores latentes e prever notas faltantes.\n"
   ]
  },
  {
   "cell_type": "code",
   "execution_count": null,
   "id": "f164b96c",
   "metadata": {},
   "outputs": [
    {
     "name": "stdout",
     "output_type": "stream",
     "text": [
      "U (4×4):\n",
      " [[ 0.452  0.808 -0.378 -0.01 ]\n",
      " [ 0.42  -0.312 -0.141 -0.841]\n",
      " [ 0.715 -0.439 -0.097  0.536]\n",
      " [ 0.329  0.24   0.91  -0.077]] \n",
      "\n",
      "Σ (4×5):\n",
      " [[11.483  0.     0.     0.     0.   ]\n",
      " [ 0.     5.625  0.     0.     0.   ]\n",
      " [ 0.     0.     4.094  0.     0.   ]\n",
      " [ 0.     0.     0.     2.177  0.   ]] \n",
      "\n",
      "Vᵀ (4×5):\n",
      " [[ 0.556  0.402  0.486  0.47   0.269]\n",
      " [ 0.24   0.426 -0.569 -0.372  0.546]\n",
      " [-0.66   0.004 -0.034  0.48   0.578]\n",
      " [-0.198  0.648 -0.349  0.352 -0.543]]\n"
     ]
    }
   ],
   "source": [
    "import numpy as np\n",
    "\n",
    "M = np.array([\n",
    "    [5, 4, 0, 0, 3],\n",
    "    [3, 0, 4, 2, 1],\n",
    "    [4, 3, 5, 5, 0],\n",
    "    [0, 2, 1, 3, 4]\n",
    "], dtype=float)\n",
    "\n",
    "U, S, Vt = np.linalg.svd(M, full_matrices=False)\n",
    "\n",
    "# Sigma completa (4×5): Primeiro, criamos uma matriz nula 4×5\n",
    "# e depois colocamos os valores singulares (recebidos da função np.linalg.svd) na diagonal principal.\n",
    "Sigma = np.zeros((4, 5))\n",
    "np.fill_diagonal(Sigma, S)\n",
    "\n",
    "# U (4×4): U é uma matriz ortonormal cujas colunas são os vetores singulares à esquerda.\n",
    "# Vt (4×5): Vt é a transposta da matriz V, cujas linhas são os vetores singulares à direita.\n",
    "np.set_printoptions(precision=3, suppress=True)\n",
    "print(\"U (4×4):\\n\", U, \"\\n\")\n",
    "print(\"Σ (4×5):\\n\", Sigma, \"\\n\")\n",
    "print(\"Vᵀ (4×5):\\n\", Vt)\n"
   ]
  },
  {
   "cell_type": "markdown",
   "id": "2a2a64dc",
   "metadata": {},
   "source": [
    "### Matrizes resultantes (aproximados a 3 casas decimais)\n",
    "\n",
    "$$\n",
    "U \\;\\approx\\;\n",
    "\\begin{bmatrix}\n",
    "0.452 & 0.808 & -0.378 & -0.010\\\\\n",
    "0.420 & -0.312 & -0.141 & -0.841\\\\\n",
    "0.715 & -0.439 & -0.097 & 0.536\\\\\n",
    "0.329 & 0.240 & 0.910 & -0.077\n",
    "\\end{bmatrix}\n",
    "$$\n",
    "\n",
    "$$\n",
    "\\Sigma \\;\\approx\\;\n",
    "\\begin{bmatrix}\n",
    "11.483 & 0      & 0     & 0     & 0\\\\\n",
    "0      & 5.625 & 0     & 0     & 0\\\\\n",
    "0      & 0      & 4.094 & 0     & 0\\\\\n",
    "0      & 0      & 0     & 2.177 & 0\n",
    "\\end{bmatrix}\n",
    "$$\n",
    "\n",
    "$$\n",
    "V^{\\mathsf T} \\;\\approx\\;\n",
    "\\begin{bmatrix}\n",
    "\\;0.556 & 0.402 & 0.486 & 0.470 & 0.269\\\\\n",
    "\\;0.240 & 0.426 & -0.569 & -0.372 & 0.546\\\\\n",
    "-0.660 & 0.004 & -0.034 & 0.480 & 0.578\\\\\n",
    "-0.198 & 0.648 & -0.349 & 0.352 & -0.543\n",
    "\\end{bmatrix}\n",
    "$$\n",
    "\n",
    "**Resumo rápido:**\n",
    "\n",
    "* Os **valores singulares** em $\\Sigma$ mostram que os **dois primeiros fatores** (11.483 e 5.625) carregam quase toda a informação.  \n",
    "* Podemos truncar para $k=2$ e reconstruir $M_k$ para **estimar** as notas que faltam.  \n"
   ]
  }
 ],
 "metadata": {
  "kernelspec": {
   "display_name": "Python 3",
   "language": "python",
   "name": "python3"
  },
  "language_info": {
   "codemirror_mode": {
    "name": "ipython",
    "version": 3
   },
   "file_extension": ".py",
   "mimetype": "text/x-python",
   "name": "python",
   "nbconvert_exporter": "python",
   "pygments_lexer": "ipython3",
   "version": "3.13.1"
  }
 },
 "nbformat": 4,
 "nbformat_minor": 5
}
