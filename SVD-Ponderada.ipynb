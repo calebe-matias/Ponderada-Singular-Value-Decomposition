{
 "cells": [
  {
   "cell_type": "markdown",
   "id": "4885c5fe",
   "metadata": {},
   "source": [
    "# SVD da matriz de classificação de filmes  \n",
    "\n",
    "A matriz \\(M\\) contém as avaliações (1–5 estrelas) dos **4 usuários** para **5 filmes**  \n",
    "(valores 0 = filme ainda não avaliado).\n",
    "\n",
    "$$\n",
    "M=\\begin{bmatrix}\n",
    "5 & 4 & 0 & 0 & 3\\\\\n",
    "3 & 0 & 4 & 2 & 1\\\\\n",
    "4 & 3 & 5 & 5 & 0\\\\\n",
    "0 & 2 & 1 & 3 & 4\n",
    "\\end{bmatrix}\n",
    "$$\n",
    "Fatoraremos $$(M = U\\,\\Sigma\\,V^{\\mathsf T})$$ usando a Decomposição em Valores Singulares (SVD).\n"
   ]
  },
  {
   "cell_type": "code",
   "execution_count": null,
   "id": "f164b96c",
   "metadata": {},
   "outputs": [
    {
     "name": "stdout",
     "output_type": "stream",
     "text": [
      "U (4×4):\n",
      " [[ 0.452  0.808 -0.378 -0.01 ]\n",
      " [ 0.42  -0.312 -0.141 -0.841]\n",
      " [ 0.715 -0.439 -0.097  0.536]\n",
      " [ 0.329  0.24   0.91  -0.077]] \n",
      "\n",
      "Σ (4×4 diagonal):\n",
      " [[11.483  0.     0.     0.   ]\n",
      " [ 0.     5.625  0.     0.   ]\n",
      " [ 0.     0.     4.094  0.   ]\n",
      " [ 0.     0.     0.     2.177]] \n",
      "\n",
      "Vᵀ (4×5):\n",
      " [[ 0.556  0.402  0.486  0.47   0.269]\n",
      " [ 0.24   0.426 -0.569 -0.372  0.546]\n",
      " [-0.66   0.004 -0.034  0.48   0.578]\n",
      " [-0.198  0.648 -0.349  0.352 -0.543]]\n"
     ]
    }
   ],
   "source": [
    "# Cálculo do SVD (Singular Value Decomposition) da matriz\n",
    "import numpy as np\n",
    "\n",
    "M = np.array([\n",
    "    [5, 4, 0, 0, 3],\n",
    "    [3, 0, 4, 2, 1],\n",
    "    [4, 3, 5, 5, 0],\n",
    "    [0, 2, 1, 3, 4]\n",
    "], dtype=float)\n",
    "\n",
    "# SVD compacta  (k = min(n_users, n_filmes) = 4)\n",
    "U, S, Vt = np.linalg.svd(M, full_matrices=False)\n",
    "\n",
    "# Exibição organizada\n",
    "np.set_printoptions(precision=3, suppress=True)\n",
    "print(\"U (4×4):\\n\", U, \"\\n\")\n",
    "print(\"Σ (4×4 diagonal):\\n\", np.diag(S), \"\\n\")\n",
    "print(\"Vᵀ (4×5):\\n\", Vt)\n"
   ]
  }
 ],
 "metadata": {
  "kernelspec": {
   "display_name": "Python 3",
   "language": "python",
   "name": "python3"
  },
  "language_info": {
   "codemirror_mode": {
    "name": "ipython",
    "version": 3
   },
   "file_extension": ".py",
   "mimetype": "text/x-python",
   "name": "python",
   "nbconvert_exporter": "python",
   "pygments_lexer": "ipython3",
   "version": "3.13.1"
  }
 },
 "nbformat": 4,
 "nbformat_minor": 5
}
